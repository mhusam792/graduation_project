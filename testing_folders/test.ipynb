{
 "cells": [
  {
   "cell_type": "code",
   "execution_count": 3,
   "metadata": {},
   "outputs": [],
   "source": [
    "import face_recognition\n",
    "image = face_recognition.load_image_file(\"/home/hossam/python_projects/final_app_2/final_app/folders/search_by_image/8d74a593-1936-4787-abb2-62b14138ba76.png\")\n",
    "face_locations = face_recognition.face_locations(image)"
   ]
  },
  {
   "cell_type": "code",
   "execution_count": 6,
   "metadata": {},
   "outputs": [],
   "source": [
    "import os\n",
    "import shutil\n",
    "import face_recognition\n",
    "\n",
    "def save_images_with_faces(input_folder, output_folder):\n",
    "    # Create the output folder if it doesn't exist\n",
    "    if not os.path.exists(output_folder):\n",
    "        os.makedirs(output_folder)\n",
    "\n",
    "    # Loop through images in the input folder\n",
    "    for filename in os.listdir(input_folder):\n",
    "        if filename.endswith(\".jpg\") or filename.endswith(\".png\"):\n",
    "            image_path = os.path.join(input_folder, filename)\n",
    "\n",
    "            # Load the image\n",
    "            image = face_recognition.load_image_file(image_path)\n",
    "\n",
    "            # Find all face locations in the image\n",
    "            face_locations = face_recognition.face_locations(image)\n",
    "\n",
    "            # If there's at least one face in the image, save it to the output folder\n",
    "            if face_locations:\n",
    "                output_path = os.path.join(output_folder, filename)\n",
    "                shutil.copy(image_path, output_path)\n",
    "\n",
    "# Example usage\n",
    "input_folder = \"/home/hossam/python_projects/final_app_2/final_app/folders/search_by_image\"\n",
    "output_folder = \"/home/hossam/python_projects/final_app_2/final_app/faces\"\n",
    "save_images_with_faces(input_folder, output_folder)\n"
   ]
  },
  {
   "cell_type": "code",
   "execution_count": 7,
   "metadata": {},
   "outputs": [
    {
     "data": {
      "text/plain": [
       "[(297, 1016, 759, 553)]"
      ]
     },
     "execution_count": 7,
     "metadata": {},
     "output_type": "execute_result"
    }
   ],
   "source": [
    "import face_recognition\n",
    "image = face_recognition.load_image_file(\"/home/hossam/python_projects/final_app_2/final_app/folders/search_by_image/41fa6737-a2ab-44d0-866c-2b5c2ca2f73d.jpeg\")\n",
    "face_locations = face_recognition.face_locations(image)\n",
    "face_locations"
   ]
  },
  {
   "cell_type": "code",
   "execution_count": 8,
   "metadata": {},
   "outputs": [],
   "source": [
    "import os\n",
    "import shutil\n",
    "import face_recognition\n",
    "\n",
    "def save_images_with_faces(input_folder, output_folder, image_extensions):\n",
    "    # Create the output folder if it doesn't exist\n",
    "    if not os.path.exists(output_folder):\n",
    "        os.makedirs(output_folder)\n",
    "\n",
    "    # Loop through images in the input folder\n",
    "    for filename in os.listdir(input_folder):\n",
    "        if any(filename.lower().endswith(ext) for ext in image_extensions):\n",
    "            image_path = os.path.join(input_folder, filename)\n",
    "\n",
    "            # Load the image\n",
    "            image = face_recognition.load_image_file(image_path)\n",
    "\n",
    "            # Find all face locations in the image\n",
    "            face_locations = face_recognition.face_locations(image)\n",
    "\n",
    "            # If there's at least one face in the image, save it to the output folder\n",
    "            if face_locations:\n",
    "                output_path = os.path.join(output_folder, filename)\n",
    "                shutil.copy(image_path, output_path)\n",
    "\n",
    "# Example usage\n",
    "input_folder = \"/home/hossam/python_projects/final_app_2/final_app/folders/search_by_image\"\n",
    "output_folder = \"/home/hossam/python_projects/final_app_2/final_app/faces\"\n",
    "image_extensions = [\".jpg\", \".jpeg\", \".png\", \".gif\"]  # Add more extensions as needed\n",
    "save_images_with_faces(input_folder, output_folder, image_extensions)\n"
   ]
  },
  {
   "cell_type": "code",
   "execution_count": 10,
   "metadata": {},
   "outputs": [],
   "source": [
    "import os\n",
    "import shutil\n",
    "import face_recognition\n",
    "\n",
    "def save_images_with_faces(input_folder, output_folder):\n",
    "    # Create the output folder if it doesn't exist\n",
    "    if not os.path.exists(output_folder):\n",
    "        os.makedirs(output_folder)\n",
    "\n",
    "    # Loop through files in the input folder\n",
    "    for filename in os.listdir(input_folder):\n",
    "        file_path = os.path.join(input_folder, filename)\n",
    "\n",
    "        # Load the image\n",
    "        image = face_recognition.load_image_file(file_path)\n",
    "\n",
    "        # Find all face locations in the image\n",
    "        face_locations = face_recognition.face_locations(image)\n",
    "\n",
    "        # If there's at least one face in the image, save it to the output folder\n",
    "        if face_locations:\n",
    "            output_path = os.path.join(output_folder, filename)\n",
    "            shutil.copy(file_path, output_path)\n",
    "\n",
    "# Example usage\n",
    "input_folder = \"/home/hossam/python_projects/final_app_2/final_app/folders/search_by_image\"\n",
    "output_folder = \"/home/hossam/python_projects/final_app_2/final_app/faces\"\n",
    "save_images_with_faces(input_folder, output_folder)\n"
   ]
  },
  {
   "cell_type": "code",
   "execution_count": 1,
   "metadata": {},
   "outputs": [
    {
     "name": "stdout",
     "output_type": "stream",
     "text": [
      "Failed to fetch image from https://github.com/mhusam792/final_app/blob/main/folders/search_by_image/8354ce75-26cc-47a2-a3bd-e9481a40a65c.jpg.\n"
     ]
    }
   ],
   "source": [
    "import requests\n",
    "from PIL import Image\n",
    "from io import BytesIO\n",
    "\n",
    "def read_image_from_github(url):\n",
    "    \"\"\"\n",
    "    Read an image from GitHub raw content URL.\n",
    "\n",
    "    Args:\n",
    "        url (str): The URL of the image file on GitHub.\n",
    "\n",
    "    Returns:\n",
    "        PIL.Image.Image: The image object.\n",
    "    \"\"\"\n",
    "    response = requests.get(url)\n",
    "    if response.status_code == 200:\n",
    "        return Image.open(BytesIO(response.content))\n",
    "    else:\n",
    "        print(f\"Failed to fetch image from {url}.\")\n",
    "        return None\n",
    "\n",
    "# Example usage\n",
    "image_url = \"https://github.com/mhusam792/final_app/blob/main/folders/search_by_image/8354ce75-26cc-47a2-a3bd-e9481a40a65c.jpg\"\n",
    "image = read_image_from_github(image_url)\n",
    "if image:\n",
    "    image.show()  # Display the image\n"
   ]
  },
  {
   "cell_type": "code",
   "execution_count": 1,
   "metadata": {},
   "outputs": [
    {
     "name": "stdout",
     "output_type": "stream",
     "text": [
      "{'Laptop': 1, 'type': ['electronics']}\n"
     ]
    }
   ],
   "source": [
    "def get_objects_and_type(result):\n",
    "    # Initialize an empty dictionary to store the result\n",
    "    objects_and_type = {}\n",
    "\n",
    "    # Check if 'objects' key exists in the result dictionary\n",
    "    if 'objects' in result:\n",
    "        # Get the value associated with 'objects' key\n",
    "        objects_dict = result['objects']\n",
    "        # Add the objects dictionary to the result\n",
    "        objects_and_type.update(objects_dict)\n",
    "\n",
    "    # Check if 'type' key exists in the result dictionary\n",
    "    if 'type' in result:\n",
    "        # Get the value associated with 'type' key\n",
    "        objects_and_type['type'] = result['type']\n",
    "\n",
    "    return objects_and_type\n",
    "\n",
    "# Example usage:\n",
    "result = {'objects': {'Laptop': 1}, 'type': ['electronics']}\n",
    "objects_and_type = get_objects_and_type(result)\n",
    "print(objects_and_type)  # Output: {'Laptop': 1, 'type': ['electronics']}\n"
   ]
  },
  {
   "cell_type": "code",
   "execution_count": 2,
   "metadata": {},
   "outputs": [],
   "source": [
    "objects_and_type['description'] = 'hello'"
   ]
  },
  {
   "cell_type": "code",
   "execution_count": 3,
   "metadata": {},
   "outputs": [
    {
     "data": {
      "text/plain": [
       "{'Laptop': 1, 'type': ['electronics'], 'description': 'hello'}"
      ]
     },
     "execution_count": 3,
     "metadata": {},
     "output_type": "execute_result"
    }
   ],
   "source": [
    "objects_and_type"
   ]
  }
 ],
 "metadata": {
  "kernelspec": {
   "display_name": "yolov8",
   "language": "python",
   "name": "python3"
  },
  "language_info": {
   "codemirror_mode": {
    "name": "ipython",
    "version": 3
   },
   "file_extension": ".py",
   "mimetype": "text/x-python",
   "name": "python",
   "nbconvert_exporter": "python",
   "pygments_lexer": "ipython3",
   "version": "3.9.18"
  }
 },
 "nbformat": 4,
 "nbformat_minor": 2
}
